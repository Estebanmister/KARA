{
  "nbformat": 4,
  "nbformat_minor": 0,
  "metadata": {
    "colab": {
      "name": "VITserver.ipynb",
      "provenance": []
    },
    "kernelspec": {
      "name": "python3",
      "display_name": "Python 3"
    },
    "language_info": {
      "name": "python"
    },
    "accelerator": "TPU"
  },
  "cells": [
    {
      "cell_type": "code",
      "source": [
        "!pip install flask-ngrok"
      ],
      "metadata": {
        "id": "5eLx8Yu2SapQ"
      },
      "execution_count": null,
      "outputs": []
    },
    {
      "cell_type": "code",
      "source": [
        "!pip install flax"
      ],
      "metadata": {
        "id": "JY2iFnquXN4h"
      },
      "execution_count": null,
      "outputs": []
    },
    {
      "cell_type": "code",
      "source": [
        "!pip install transformers[flax]"
      ],
      "metadata": {
        "id": "VQ1hS30EQ0op"
      },
      "execution_count": null,
      "outputs": []
    },
    {
      "cell_type": "code",
      "execution_count": null,
      "metadata": {
        "id": "sDZafhTgQf3Q"
      },
      "outputs": [],
      "source": [
        "import jax\n",
        "jax.devices()\n",
        "import requests\n",
        "from PIL import Image\n",
        "import io\n",
        "import json\n",
        "import base64\n",
        "import logging\n",
        "\n",
        "from flask import Flask, request, jsonify, abort\n",
        "from flask_ngrok import run_with_ngrok\n",
        "\n",
        "from transformers import ViTFeatureExtractor, AutoTokenizer, FlaxVisionEncoderDecoderModel\n",
        "\n",
        "loc = \"ydshieh/vit-gpt2-coco-en\"\n",
        "\n",
        "feature_extractor = ViTFeatureExtractor.from_pretrained(loc)\n",
        "tokenizer = AutoTokenizer.from_pretrained(loc)\n",
        "model = FlaxVisionEncoderDecoderModel.from_pretrained(loc)\n",
        "\n",
        "def generate_step(img):\n",
        "    pixel_values = feature_extractor(images=img, return_tensors=\"np\").pixel_values\n",
        "    output_ids = model.generate(pixel_values, max_length=16, num_beams=4).sequences\n",
        "    preds = tokenizer.batch_decode(output_ids, skip_special_tokens=True)\n",
        "    preds = [pred.strip() for pred in preds]\n",
        "    return preds[0]\n",
        "\n",
        "def vidi(image):\n",
        "    return generate_step(image)\n",
        "\n",
        "\n",
        "app = Flask(__name__)\n",
        "app.logger.setLevel(logging.DEBUG)\n",
        "run_with_ngrok(app)\n",
        "\n",
        "@app.route(\"/describe\", methods=['POST'])\n",
        "def describe():\n",
        "    # print(request.json)\n",
        "    if not request.json or 'image' not in request.json:\n",
        "        abort(400)\n",
        "\n",
        "    # get the base64 encoded string\n",
        "    im_b64 = request.json['image']\n",
        "\n",
        "    # convert it into bytes\n",
        "    img_bytes = base64.b64decode(im_b64.encode('utf-8'))\n",
        "\n",
        "    # convert bytes data to PIL Image object\n",
        "    img = Image.open(io.BytesIO(img_bytes))\n",
        "\n",
        "    output = vidi(img)\n",
        "\n",
        "    result_dict = {'output': output}\n",
        "    return result_dict\n",
        "\n",
        "\n",
        "if __name__ == \"__main__\":\n",
        "    app.run()"
      ]
    }
  ]
}